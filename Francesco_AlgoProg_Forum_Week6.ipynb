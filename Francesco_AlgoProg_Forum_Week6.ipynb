{
  "nbformat": 4,
  "nbformat_minor": 0,
  "metadata": {
    "colab": {
      "provenance": [],
      "authorship_tag": "ABX9TyM+5AkFcTwH2A5mLiaNyouv",
      "include_colab_link": true
    },
    "kernelspec": {
      "name": "python3",
      "display_name": "Python 3"
    },
    "language_info": {
      "name": "python"
    }
  },
  "cells": [
    {
      "cell_type": "markdown",
      "metadata": {
        "id": "view-in-github",
        "colab_type": "text"
      },
      "source": [
        "<a href=\"https://colab.research.google.com/github/FrancescoEmmanuel/AlgoProgForumWeek6Assignment/blob/main/Francesco_AlgoProg_Forum_Week6.ipynb\" target=\"_parent\"><img src=\"https://colab.research.google.com/assets/colab-badge.svg\" alt=\"Open In Colab\"/></a>"
      ]
    },
    {
      "cell_type": "markdown",
      "source": [
        "MCQ Answers:\n",
        "1.B\n",
        "2.D\n",
        "3.A\n",
        "4.B\n",
        "5.D\n",
        "6.C\n",
        "7.A\n",
        "8.C\n",
        "9.B"
      ],
      "metadata": {
        "id": "cZXEtnmc9eB5"
      }
    },
    {
      "cell_type": "markdown",
      "source": [
        "Question 1:"
      ],
      "metadata": {
        "id": "62kwaVBR-U8P"
      }
    },
    {
      "cell_type": "code",
      "execution_count": 1,
      "metadata": {
        "colab": {
          "base_uri": "https://localhost:8080/"
        },
        "id": "bzw2IyzJ9Uly",
        "outputId": "dc9d3501-68fb-4040-de1a-47698d63cc15"
      },
      "outputs": [
        {
          "output_type": "stream",
          "name": "stdout",
          "text": [
            "{'gold': 550, 'pouch': ['flint', 'twine', 'gemstone'], 'backpack': ['bedroll', 'bread loaf', 'xylophone'], 'pocket': ['seashell', 'strange berry', 'lit']}\n"
          ]
        }
      ],
      "source": [
        "inventory = {\n",
        " 'gold' : 500,\n",
        " 'pouch' : ['flint', 'twine', 'gemstone'],\n",
        " 'backpack' : ['xylophone','dagger', 'bedroll','bread loaf']\n",
        "}\n",
        "\n",
        "inventory['pocket'] = ['seashell','strange berry', 'lit']\n",
        "inventory['backpack'].sort()\n",
        "inventory['backpack'].remove(\"dagger\")\n",
        "inventory[\"gold\"] += 50\n",
        "\n",
        "\n",
        "\n",
        "\n",
        "print(inventory)"
      ]
    },
    {
      "cell_type": "markdown",
      "source": [
        "Question 2:"
      ],
      "metadata": {
        "id": "wyyF8eRU-X1S"
      }
    },
    {
      "cell_type": "code",
      "source": [
        "prices = {\"banana\": 4, \"apple\": 2, \"orange\": 1.5,\"pear\": 3}\n",
        "# Dictionary for the stock of fruits\n",
        "stock = {\"banana\":5, \"apple\":0, \"orange\": 20, \"pear\": 15}\n",
        "\n",
        "for fruits in prices:\n",
        "     print(fruits,\"\\n\",\"price: \", prices[key],\"\\n\",\"stock: \",stock[key])\n",
        "    \n",
        "total = 0 \n",
        "\n",
        "for fruits in prices:\n",
        "     totalprice = prices[fruits]*stock[fruits]\n",
        "     print(f\"The money gained from {stock[fruits]} {fruits} is {totalprice}\")\n",
        "     total += totalprice\n",
        "\n",
        "print(f\"The total money gained from all the fruits sold is {total}\")"
      ],
      "metadata": {
        "id": "YsrOqidv-R_A"
      },
      "execution_count": null,
      "outputs": []
    },
    {
      "cell_type": "markdown",
      "source": [
        "Question 3:"
      ],
      "metadata": {
        "id": "xRnDkkO7-gfj"
      }
    },
    {
      "cell_type": "code",
      "source": [
        "groceries = [\"banana\", \"orange\", \"apple\"]\n",
        "stock = {\n",
        " \"banana\": 6,\n",
        " \"apple\": 0,\n",
        " \"orange\": 32,\n",
        " \"pear\": 15\n",
        "}\n",
        "prices = {\n",
        " \"banana\": 4,\n",
        " \"apple\": 2,\n",
        " \"orange\": 1.5,\n",
        " \"pear\": 3\n",
        "}\n",
        "\n",
        "def compute_bill(food):\n",
        "    total = 0\n",
        "    for items in food:\n",
        "        if stock[items] > 0:\n",
        "            total += prices[items]\n",
        "            stock[items] -= 1\n",
        "    return total\n",
        "\n",
        "TotalBill = compute_bill(groceries)\n",
        "\n",
        "print(f\"The total bill for the groceries is {TotalBill}\")\n"
      ],
      "metadata": {
        "colab": {
          "base_uri": "https://localhost:8080/"
        },
        "id": "B8f3jZqC-jcv",
        "outputId": "60ed685a-3900-45c5-d8a3-06091563a919"
      },
      "execution_count": 2,
      "outputs": [
        {
          "output_type": "stream",
          "name": "stdout",
          "text": [
            "The total bill for the groceries is 5.5\n"
          ]
        }
      ]
    },
    {
      "cell_type": "markdown",
      "source": [
        "Question 4:"
      ],
      "metadata": {
        "id": "Xk17WmdN9b0i"
      }
    },
    {
      "cell_type": "code",
      "source": [
        "eren = {\n",
        " \"name\": \"Eren\",\n",
        " \"homework\": [90.0,97.0,75.0,92.0],\n",
        " \"quizzes\": [88.0,40.0,94.0],\n",
        " \"tests\": [75.0,90.0]\n",
        "}\n",
        "mikasa = {\n",
        "\"name\": \"Mikasa\",\n",
        "\"homework\": [100.0, 92.0, 98.0, 100.0],\n",
        "\"quizzes\": [82.0, 83.0, 91.0],\n",
        "\"tests\": [89.0, 97.0]\n",
        "}\n",
        "armin = {\n",
        "\"name\": \"Armin\",\n",
        "\"homework\": [0.0, 87.0, 75.0, 22.0],\n",
        "\"quizzes\": [0.0, 75.0, 78.0],\n",
        "\"tests\": [100.0, 100.0]\n",
        "}\n",
        "\n",
        "students = [eren, mikasa, armin]\n",
        "\n",
        "for student in students: \n",
        "    for key, value in student.items():\n",
        "        print(f\"{key.title()} : {value}\")\n",
        "    print(\"\\n\")\n",
        "\n",
        "def average(numbers):\n",
        "    total = float(sum(numbers))\n",
        "    avg = total / len(numbers)\n",
        "    return avg\n",
        "  \n",
        "def get_average(student):\n",
        "    homework = average(student[\"homework\"])\n",
        "    quizzes = average(student[\"quizzes\"])\n",
        "    tests = average(student[\"tests\"])\n",
        "    total = (homework*0.1 + quizzes*0.3 + tests*0.6)\n",
        "    return total\n",
        "\n",
        "def get_letter_grade(score):\n",
        "    if score >= 90: \n",
        "        return \"A\"\n",
        "    elif score >= 80:\n",
        "        return \"B\"\n",
        "    elif score >= 70:\n",
        "        return \"C\"\n",
        "    elif score >= 60: \n",
        "        return \"D\"\n",
        "    else: \n",
        "        return \"F\"\n",
        "    \n",
        "print(f\"The letter grade for mikasa is {get_letter_grade(get_average(mikasa))}\")\n",
        "\n",
        "def get_class_average(students):\n",
        "    results = []\n",
        "    for student in students:\n",
        "        results.append(get_average(student))\n",
        "    return average(results)\n",
        "\n",
        "print(f\"The class average is {round(get_class_average(students),2)}\")\n",
        "print(f\"The class average letter grade is {get_letter_grade(get_class_average(students))} \")\n"
      ],
      "metadata": {
        "colab": {
          "base_uri": "https://localhost:8080/"
        },
        "id": "Id2UhG0X-31V",
        "outputId": "1531b889-5855-4543-e932-0297ec6d379d"
      },
      "execution_count": 3,
      "outputs": [
        {
          "output_type": "stream",
          "name": "stdout",
          "text": [
            "Name : Eren\n",
            "Homework : [90.0, 97.0, 75.0, 92.0]\n",
            "Quizzes : [88.0, 40.0, 94.0]\n",
            "Tests : [75.0, 90.0]\n",
            "\n",
            "\n",
            "Name : Mikasa\n",
            "Homework : [100.0, 92.0, 98.0, 100.0]\n",
            "Quizzes : [82.0, 83.0, 91.0]\n",
            "Tests : [89.0, 97.0]\n",
            "\n",
            "\n",
            "Name : Armin\n",
            "Homework : [0.0, 87.0, 75.0, 22.0]\n",
            "Quizzes : [0.0, 75.0, 78.0]\n",
            "Tests : [100.0, 100.0]\n",
            "\n",
            "\n",
            "The letter grade for mikasa is A\n",
            "The class average is 83.87\n",
            "The class average letter grade is B \n"
          ]
        }
      ]
    },
    {
      "cell_type": "markdown",
      "source": [],
      "metadata": {
        "id": "VPCuKc-3-3QS"
      }
    }
  ]
}